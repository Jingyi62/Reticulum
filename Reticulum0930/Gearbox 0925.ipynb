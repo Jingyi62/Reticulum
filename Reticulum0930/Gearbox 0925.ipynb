{
 "cells": [
  {
   "cell_type": "markdown",
   "id": "51d413b1",
   "metadata": {},
   "source": [
    "### 1. 模拟在不同adversary比例下Gearbox全部shard的平均size和overlaptime\n",
    "- 总节点数量：5000\n",
    "- Gearbox: 10%, 20%, 25% 30% 和50%\n",
    "- 对应的 shard size: 26,39,50,63,293"
   ]
  },
  {
   "cell_type": "code",
   "execution_count": 18,
   "id": "ee3ca555",
   "metadata": {
    "scrolled": true
   },
   "outputs": [
    {
     "name": "stdout",
     "output_type": "stream",
     "text": [
      "n=0:\n",
      "26: 100.00%\n",
      "39: 0.00%\n",
      "50: 0.00%\n",
      "63: 0.00%\n",
      "293: 0.00%\n",
      "n=0: 26.0\n",
      "overlap time: 1.0\n",
      "n=1:\n",
      "26: 99.79%\n",
      "39: 0.21%\n",
      "50: 0.00%\n",
      "63: 0.00%\n",
      "293: 0.00%\n",
      "n=1: 26.027218749999935\n",
      "overlap time: 1.0010468749999974\n",
      "n=2:\n",
      "26: 98.52%\n",
      "39: 1.48%\n",
      "50: 0.00%\n",
      "63: 0.00%\n",
      "293: 0.00%\n",
      "n=2: 26.19229166666668\n",
      "overlap time: 1.007395833333334\n",
      "n=3:\n",
      "26: 95.82%\n",
      "39: 4.18%\n",
      "50: 0.00%\n",
      "63: 0.00%\n",
      "293: 0.00%\n",
      "n=3: 26.543359374999998\n",
      "overlap time: 1.0208984374999999\n",
      "n=4:\n",
      "26: 91.64%\n",
      "39: 8.36%\n",
      "50: 0.00%\n",
      "63: 0.00%\n",
      "293: 0.00%\n",
      "n=4: 27.08737500000001\n",
      "overlap time: 1.0418221153846157\n",
      "n=5:\n",
      "26: 86.19%\n",
      "39: 13.80%\n",
      "50: 0.01%\n",
      "63: 0.00%\n",
      "293: 0.00%\n",
      "n=5: 27.797041666666694\n",
      "overlap time: 1.069116987179488\n",
      "n=6:\n",
      "26: 79.60%\n",
      "39: 20.36%\n",
      "50: 0.04%\n",
      "63: 0.00%\n",
      "293: 0.00%\n",
      "n=6: 28.656145833333355\n",
      "overlap time: 1.102159455128206\n",
      "n=7:\n",
      "26: 72.85%\n",
      "39: 27.01%\n",
      "50: 0.14%\n",
      "63: 0.00%\n",
      "293: 0.00%\n",
      "n=7: 29.544921875000014\n",
      "overlap time: 1.1363431490384621\n",
      "n=8:\n",
      "26: 65.48%\n",
      "39: 34.16%\n",
      "50: 0.35%\n",
      "63: 0.00%\n",
      "293: 0.00%\n",
      "n=8: 30.526010416666697\n",
      "overlap time: 1.1740773237179498\n",
      "n=9:\n",
      "26: 58.37%\n",
      "39: 40.80%\n",
      "50: 0.83%\n",
      "63: 0.00%\n",
      "293: 0.00%\n",
      "n=9: 31.50406770833337\n",
      "overlap time: 1.2116949118589757\n",
      "n=10:\n",
      "26: 51.00%\n",
      "39: 47.27%\n",
      "50: 1.73%\n",
      "63: 0.00%\n",
      "293: 0.00%\n",
      "n=10: 32.560161458333326\n",
      "overlap time: 1.2523139022435894\n",
      "n=11:\n",
      "26: 44.40%\n",
      "39: 52.31%\n",
      "50: 3.29%\n",
      "63: 0.01%\n",
      "293: 0.00%\n",
      "n=11: 33.591994791666636\n",
      "overlap time: 1.291999799679486\n",
      "n=12:\n",
      "26: 38.02%\n",
      "39: 56.52%\n",
      "50: 5.44%\n",
      "63: 0.03%\n",
      "293: 0.00%\n",
      "n=12: 34.662765624999984\n",
      "overlap time: 1.3331832932692302\n",
      "n=13:\n",
      "26: 32.36%\n",
      "39: 59.17%\n",
      "50: 8.39%\n",
      "63: 0.07%\n",
      "293: 0.00%\n",
      "n=13: 35.73294791666667\n",
      "overlap time: 1.3743441506410257\n",
      "n=14:\n",
      "26: 27.29%\n",
      "39: 60.30%\n",
      "50: 12.21%\n",
      "63: 0.21%\n",
      "293: 0.00%\n",
      "n=14: 36.845390625\n",
      "overlap time: 1.417130408653846\n",
      "n=15:\n",
      "26: 22.70%\n",
      "39: 60.28%\n",
      "50: 16.53%\n",
      "63: 0.49%\n",
      "293: 0.00%\n",
      "n=15: 37.98599479166665\n",
      "overlap time: 1.4609997996794866\n",
      "n=16:\n",
      "26: 18.95%\n",
      "39: 58.43%\n",
      "50: 21.59%\n",
      "63: 1.02%\n",
      "293: 0.00%\n",
      "n=16: 39.16563020833328\n",
      "overlap time: 1.5063703926282033\n",
      "n=17:\n",
      "26: 15.63%\n",
      "39: 55.53%\n",
      "50: 26.78%\n",
      "63: 2.04%\n",
      "293: 0.01%\n",
      "n=17: 40.44072395833335\n",
      "overlap time: 1.555412459935898\n",
      "n=18:\n",
      "26: 12.68%\n",
      "39: 52.18%\n",
      "50: 31.63%\n",
      "63: 3.46%\n",
      "293: 0.05%\n",
      "n=18: 41.78514583333332\n",
      "overlap time: 1.607120993589743\n",
      "n=19:\n",
      "26: 10.31%\n",
      "39: 47.70%\n",
      "50: 36.12%\n",
      "63: 5.74%\n",
      "293: 0.14%\n",
      "n=19: 43.35763541666663\n",
      "overlap time: 1.6676013621794858\n",
      "n=20:\n",
      "26: 8.32%\n",
      "39: 42.98%\n",
      "50: 39.67%\n",
      "63: 8.71%\n",
      "293: 0.33%\n",
      "n=20: 45.19756250000005\n",
      "overlap time: 1.7383677884615405\n",
      "n=21:\n",
      "26: 6.59%\n",
      "39: 37.94%\n",
      "50: 42.29%\n",
      "63: 12.48%\n",
      "293: 0.71%\n",
      "n=21: 47.5835052083334\n",
      "overlap time: 1.8301348157051307\n",
      "n=22:\n",
      "26: 5.26%\n",
      "39: 33.00%\n",
      "50: 43.52%\n",
      "63: 16.73%\n",
      "293: 1.49%\n",
      "n=22: 50.895296875\n",
      "overlap time: 1.9575114182692308\n",
      "n=23:\n",
      "26: 4.23%\n",
      "39: 28.15%\n",
      "50: 43.50%\n",
      "63: 21.34%\n",
      "293: 2.77%\n",
      "n=23: 55.404052083333255\n",
      "overlap time: 2.1309250801282023\n",
      "n=24:\n",
      "26: 3.30%\n",
      "39: 23.89%\n",
      "50: 41.98%\n",
      "63: 26.03%\n",
      "293: 4.80%\n",
      "n=24: 61.63372395833332\n",
      "overlap time: 2.3705278445512814\n",
      "n=25:\n",
      "26: 2.55%\n",
      "39: 19.90%\n",
      "50: 39.63%\n",
      "63: 30.02%\n",
      "293: 7.89%\n",
      "n=25: 70.2813489583333\n",
      "overlap time: 2.703128806089742\n",
      "n=26:\n",
      "26: 1.95%\n",
      "39: 16.29%\n",
      "50: 36.40%\n",
      "63: 33.30%\n",
      "293: 12.05%\n",
      "n=26: 81.35723437499999\n",
      "overlap time: 3.129124399038461\n",
      "n=27:\n",
      "26: 1.51%\n",
      "39: 13.23%\n",
      "50: 32.77%\n",
      "63: 35.18%\n",
      "293: 17.31%\n",
      "n=27: 94.8072656249999\n",
      "overlap time: 3.6464332932692267\n",
      "n=28:\n",
      "26: 1.14%\n",
      "39: 10.76%\n",
      "50: 28.62%\n",
      "63: 35.94%\n",
      "293: 23.54%\n",
      "n=28: 110.42679687500001\n",
      "overlap time: 4.247184495192308\n",
      "n=29:\n",
      "26: 0.90%\n",
      "39: 8.36%\n",
      "50: 24.37%\n",
      "63: 35.30%\n",
      "293: 31.08%\n",
      "n=29: 128.9661354166667\n",
      "overlap time: 4.960235977564104\n",
      "n=30:\n",
      "26: 0.65%\n",
      "39: 6.66%\n",
      "50: 20.56%\n",
      "63: 33.43%\n",
      "293: 38.69%\n",
      "n=30: 147.47069791666678\n",
      "overlap time: 5.671949919871799\n",
      "n=31:\n",
      "26: 0.51%\n",
      "39: 5.00%\n",
      "50: 16.91%\n",
      "63: 30.65%\n",
      "293: 46.93%\n",
      "n=31: 167.36216666666695\n",
      "overlap time: 6.437006410256421\n",
      "n=32:\n",
      "26: 0.38%\n",
      "39: 3.85%\n",
      "50: 13.58%\n",
      "63: 27.15%\n",
      "293: 55.04%\n",
      "n=32: 186.77149479166647\n",
      "overlap time: 7.183519030448711\n",
      "n=33:\n",
      "26: 0.28%\n",
      "39: 2.85%\n",
      "50: 10.72%\n",
      "63: 23.37%\n",
      "293: 62.77%\n",
      "n=33: 205.19789583333343\n",
      "overlap time: 7.892226762820517\n",
      "n=34:\n",
      "26: 0.19%\n",
      "39: 2.13%\n",
      "50: 8.51%\n",
      "63: 19.62%\n",
      "293: 69.54%\n",
      "n=34: 221.25205208333327\n",
      "overlap time: 8.509694310897434\n",
      "n=35:\n",
      "26: 0.15%\n",
      "39: 1.61%\n",
      "50: 6.41%\n",
      "63: 15.98%\n",
      "293: 75.84%\n",
      "n=35: 236.14448958333338\n",
      "overlap time: 9.082480368589746\n",
      "n=36:\n",
      "26: 0.10%\n",
      "39: 1.13%\n",
      "50: 4.77%\n",
      "63: 12.72%\n",
      "293: 81.27%\n",
      "n=36: 248.99925520833364\n",
      "overlap time: 9.576894431089755\n",
      "n=37:\n",
      "26: 0.08%\n",
      "39: 0.79%\n",
      "50: 3.57%\n",
      "63: 9.68%\n",
      "293: 85.89%\n",
      "n=37: 259.8760208333334\n",
      "overlap time: 9.995231570512825\n",
      "n=38:\n",
      "26: 0.05%\n",
      "39: 0.58%\n",
      "50: 2.53%\n",
      "63: 7.33%\n",
      "293: 89.51%\n",
      "n=38: 268.37404166666647\n",
      "overlap time: 10.322078525641018\n",
      "n=39:\n",
      "26: 0.04%\n",
      "39: 0.38%\n",
      "50: 1.86%\n",
      "63: 5.39%\n",
      "293: 92.32%\n",
      "n=39: 274.98411979166656\n",
      "overlap time: 10.576312299679483\n",
      "n=40:\n",
      "26: 0.02%\n",
      "39: 0.29%\n",
      "50: 1.31%\n",
      "63: 3.83%\n",
      "293: 94.54%\n",
      "n=40: 280.20359375000004\n",
      "overlap time: 10.777061298076925\n",
      "n=41:\n",
      "26: 0.02%\n",
      "39: 0.20%\n",
      "50: 0.91%\n",
      "63: 2.72%\n",
      "293: 96.16%\n",
      "n=41: 283.98731250000003\n",
      "overlap time: 10.922588942307694\n",
      "n=42:\n",
      "26: 0.01%\n",
      "39: 0.13%\n",
      "50: 0.60%\n",
      "63: 1.89%\n",
      "293: 97.37%\n",
      "n=42: 286.83341666666655\n",
      "overlap time: 11.032054487179483\n",
      "n=43:\n",
      "26: 0.01%\n",
      "39: 0.09%\n",
      "50: 0.40%\n",
      "63: 1.26%\n",
      "293: 98.25%\n",
      "n=43: 288.89333854166665\n",
      "overlap time: 11.111282251602564\n",
      "n=44:\n",
      "26: 0.00%\n",
      "39: 0.06%\n",
      "50: 0.27%\n",
      "63: 0.87%\n",
      "293: 98.80%\n",
      "n=44: 290.19015625000037\n",
      "overlap time: 11.161159855769245\n",
      "n=45:\n",
      "26: 0.01%\n",
      "39: 0.04%\n",
      "50: 0.18%\n",
      "63: 0.54%\n",
      "293: 99.23%\n",
      "n=45: 291.19957812500024\n",
      "overlap time: 11.19998377403847\n",
      "n=46:\n",
      "26: 0.00%\n",
      "39: 0.03%\n",
      "50: 0.10%\n",
      "63: 0.33%\n",
      "293: 99.54%\n",
      "n=46: 291.9255520833335\n",
      "overlap time: 11.227905849358981\n",
      "n=47:\n",
      "26: 0.00%\n",
      "39: 0.01%\n",
      "50: 0.07%\n",
      "63: 0.20%\n",
      "293: 99.72%\n",
      "n=47: 292.3352968750002\n",
      "overlap time: 11.243665264423084\n",
      "n=48:\n",
      "26: 0.00%\n",
      "39: 0.01%\n",
      "50: 0.04%\n",
      "63: 0.12%\n",
      "293: 99.83%\n",
      "n=48: 292.6088958333335\n",
      "overlap time: 11.254188301282058\n",
      "n=49:\n",
      "26: 0.00%\n",
      "39: 0.01%\n",
      "50: 0.02%\n",
      "63: 0.07%\n",
      "293: 99.90%\n",
      "n=49: 292.76188020833354\n",
      "overlap time: 11.260072315705136\n"
     ]
    }
   ],
   "source": [
    "import random\n",
    "\n",
    "\"\"\"The simulation about Gearbox:\n",
    "    We generated 5000 nodes and there are five gears, gears size are 18,29,38,46,221. We calculate it from the Shard size.ipynb with failure rate fall in 10^-7 and 10^-8.\n",
    "    We assign nodes into shard randomly and check if the adversarial nodes in the shard is more than this shard's livness threshold or we turn to a bigger one.\n",
    "    we keep doing this until all the shard can run normally and then calculate the average shard size. Also,we calculate the overlap time.\n",
    "\"\"\"\n",
    "\n",
    "\"\"\"Function run_simulation used for find the average shard size of Gearbox in different adversarial nodes ratio.\n",
    "    Input:\n",
    "        n: The adversarial nodes ratio in the system(upper bound).\n",
    "        \n",
    "    Output:\n",
    "        average shard size of all shard\n",
    "        \n",
    "\"\"\"\n",
    "\n",
    "# Function run_simulation used for finding the average shard size of Gearbox with different adversarial nodes ratio.\n",
    "def run_simulation(n):\n",
    "    # Calculate the number of Byzantine nodes based on the percentage 'n'\n",
    "    byzantine_nodes = int(n / 100 * 5000)\n",
    "    results = []\n",
    "    element_values = []  # 用于存储每次运行的 element 值\n",
    "    for i in range(192):\n",
    "        # Step 1: Select a sample of 18 nodes\n",
    "        sample_1 = random.sample(range(5000), 26)\n",
    "        num_byzantine_nodes = sum(1 for node in sample_1 if node < byzantine_nodes)\n",
    "        if num_byzantine_nodes > 2:\n",
    "            sample_2 = random.sample(range(5000), 39)\n",
    "            num_byzantine_nodes = sum(1 for node in sample_2 if node < byzantine_nodes)\n",
    "            if num_byzantine_nodes > 7:\n",
    "                sample_3 = random.sample(range(5000), 50)\n",
    "                num_byzantine_nodes = sum(1 for node in sample_3 if node < byzantine_nodes)\n",
    "                if num_byzantine_nodes > 12:\n",
    "                    sample_4 = random.sample(range(5000), 63)\n",
    "                    num_byzantine_nodes = sum(1 for node in sample_4 if node < byzantine_nodes)\n",
    "                    if num_byzantine_nodes > 18:\n",
    "                        element = 293\n",
    "                    else:\n",
    "                        element = 63\n",
    "                else:\n",
    "                    element = 50\n",
    "            else:\n",
    "                element = 39\n",
    "        else:\n",
    "            element = 26\n",
    "        \n",
    "        results.append(element)\n",
    "        element_values.append(element)  # 收集每次运行的 element 值\n",
    "\n",
    "    # Calculate the average number of records\n",
    "    return sum(results) / len(results), element_values\n",
    "\n",
    "gresult = []\n",
    "goverlap = []\n",
    "\n",
    "for n in range(50):\n",
    "    results = []\n",
    "    element_results = []\n",
    "\n",
    "    for i in range(1000):\n",
    "        # Run the simulation for 'n' and obtain the average number of records and element values\n",
    "        avg_records, element_values = run_simulation(n)\n",
    "        results.append(avg_records)\n",
    "        element_results.extend(element_values)  # 将每次运行的 element 值添加到 element_results\n",
    "\n",
    "    # 计算每个元素的百分比\n",
    "    total_elements = len(element_results)\n",
    "    element_percentages = {26: 0, 39: 0, 50: 0, 63: 0, 293: 0}\n",
    "\n",
    "    for element in element_results:\n",
    "        element_percentages[element] += 1\n",
    "\n",
    "    # 将百分比除以总数以确保总和为100%\n",
    "    for key in element_percentages:\n",
    "        element_percentages[key] /= total_elements\n",
    "\n",
    "    # 输出每个元素的百分比\n",
    "    print(f\"n={n}:\")\n",
    "    for key, percentage in element_percentages.items():\n",
    "        print(f\"{key}: {percentage * 100:.2f}%\")\n",
    "\n",
    "    gresult.append(sum(results) / len(results))\n",
    "    print(f\"n={n}: {gresult[-1]}\")\n",
    "    # Calculate the overlap time by dividing the average results by 18\n",
    "    print(f\"overlap time: {gresult[-1] / 26}\")\n",
    "    goverlap.append(gresult[-1] / 26)\n"
   ]
  },
  {
   "cell_type": "markdown",
   "id": "62f5c0db",
   "metadata": {},
   "source": [
    "## 2. 拟合出shard size和time-bound的线性关系\n",
    "- 类似于 Reticulum，Gearbox 同样包含两条链，因此我们粗略的使用Reticulum的 time-bound进行拟合\n",
    "- ($N_c$,886), ($N_p$,136)"
   ]
  },
  {
   "cell_type": "code",
   "execution_count": 1,
   "id": "75a1a1dc",
   "metadata": {},
   "outputs": [
    {
     "name": "stdout",
     "output_type": "stream",
     "text": [
      "The fitted equation is: y = 1.05x + 344.50\n"
     ]
    },
    {
     "name": "stderr",
     "output_type": "stream",
     "text": [
      "/opt/anaconda3/lib/python3.9/site-packages/IPython/core/interactiveshell.py:3457: RankWarning: Polyfit may be poorly conditioned\n",
      "  exec(code_obj, self.user_global_ns, self.user_ns)\n"
     ]
    }
   ],
   "source": [
    "\"\"\"This function is try to get a fitted equation about connected nodes number and \"\"\"\n",
    "\n",
    "import random\n",
    "import matplotlib.pyplot as plt\n",
    "import numpy as np\n",
    "\n",
    "# Define the input data\n",
    "x = np.array([329])  # Input x values\n",
    "y = np.array([689])  # Input y values\n",
    "\n",
    "# Fit a linear equation (one degree polynomial) to the data\n",
    "coefficients = np.polyfit(x, y, 1)\n",
    "\n",
    "# Extract the slope and intercept from the coefficients\n",
    "slope = coefficients[0]\n",
    "intercept = coefficients[1]\n",
    "\n",
    "# Print the equation of the fitted line\n",
    "print(f\"The fitted equation is: y = {slope:.2f}x + {intercept:.2f}\")"
   ]
  },
  {
   "cell_type": "markdown",
   "id": "ef5c8c06",
   "metadata": {},
   "source": [
    "## 3.计算 Gearbox在不同adversary比例下的吞吐量\n",
    "- 假设每个非最小Gear的shard都尝试在新的epoch下调小gear"
   ]
  },
  {
   "cell_type": "markdown",
   "id": "3b53d3b0",
   "metadata": {},
   "source": [
    "### 3.1 当 $P_a=10\\%$"
   ]
  },
  {
   "cell_type": "markdown",
   "id": "51ac58a7",
   "metadata": {},
   "source": [
    "n=10:\\\n",
    "26: 50.78%\\\n",
    "39: 47.50%\\\n",
    "50: 1.72%\\\n",
    "63: 0.00%\\\n",
    "293: 0.00%\\\n",
    "n=10: 32.588233333333356\\\n",
    "overlap time: 1.2533935897435906"
   ]
  },
  {
   "cell_type": "markdown",
   "id": "6f771a18",
   "metadata": {},
   "source": [
    "- 50.78%的shard的共识是在26个节点内达成的，他们花费的时间是：26 * 2.44+84.86\n",
    "- 47.50%的shard的共识是在39个节点内达成的，他们花费的时间是：26 * 2.44+84.86+39*2.44+84.86\n",
    "- 1.72%的shard的共识是在50个节点内达成的，他们花费的时间是：39 * 2.44+84.86+50*2.44+84.86\n",
    "\n",
    "- 总平均共识达成时间:248.324s\n",
    "\n",
    "\n",
    "- 吞吐量= (5000/26)*4096 /248.324 /1.253 = 2527.5 tx/sec\n"
   ]
  },
  {
   "cell_type": "markdown",
   "id": "59ea2d0e",
   "metadata": {},
   "source": [
    "- 50.78%的shard的共识是在26个节点内达成的，他们花费的时间是：26*2.44+84.86\n",
    "- 47.50%的shard的共识是在39个节点内达成的，他们花费的时间是：39*2.44+84.86\n",
    "- 1.72%的shard的共识是在50个节点内达成的，他们花费的时间是：50*2.44+84.86\n",
    "\n",
    "- 总平均共识达成时间:164.37s\n",
    "\n",
    "\n",
    "- 吞吐量= (5000/26)*4096 /164.37 /1.253 = 3824.6 tx/sec"
   ]
  },
  {
   "cell_type": "code",
   "execution_count": 12,
   "id": "5b047e98",
   "metadata": {},
   "outputs": [
    {
     "data": {
      "text/plain": [
       "5930.6141313098215"
      ]
     },
     "execution_count": 12,
     "metadata": {},
     "output_type": "execute_result"
    }
   ],
   "source": [
    "(5000/26)*4096 /106 /1.253"
   ]
  },
  {
   "cell_type": "code",
   "execution_count": 11,
   "id": "a7004f8a",
   "metadata": {},
   "outputs": [
    {
     "data": {
      "text/plain": [
       "106.0"
      ]
     },
     "execution_count": 11,
     "metadata": {},
     "output_type": "execute_result"
    }
   ],
   "source": [
    "50*2.12"
   ]
  },
  {
   "cell_type": "markdown",
   "id": "4c0f49f2",
   "metadata": {},
   "source": [
    "### 3.2 当 $P_a=20\\%$"
   ]
  },
  {
   "cell_type": "markdown",
   "id": "1f395dd4",
   "metadata": {},
   "source": [
    "n=20:\\\n",
    "26: 8.32%\\\n",
    "39: 42.41%\\\n",
    "50: 40.27%\\\n",
    "63: 8.63%\\\n",
    "293: 0.37%\\\n",
    "n=20: 45.35866666666669\\\n",
    "overlap time: 1.7445641025641037"
   ]
  },
  {
   "cell_type": "markdown",
   "id": "8c1c8f1f",
   "metadata": {},
   "source": [
    "- 8.32%的shard的共识是在26个节点内达成的，他们花费的时间是：26*2.44+84.86\n",
    "- 42.41%的shard的共识是在39个节点内达成的，他们花费的时间是：26*2.44+84.86+39*2.44+84.86\n",
    "- 40.27%的shard的共识是在50个节点内达成的，他们花费的时间是：39*2.44+84.86+50*2.44+84.86\n",
    "- 8.63%的shard的共识是在63个节点内达成的，他们花费的时间是：50*2.44+84.86+63*2.44+84.86\n",
    "- 0.37%的shard的共识是在63个节点内达成的，他们花费的时间是：293*2.44+84.86+63*2.44+84.86\n",
    "\n",
    "- 总平均共识达成时间:311.218s\n",
    "\n",
    "- 吞吐量= (5000/26)*4096 /311.218 /1.744 = 1451.3 tx/sec"
   ]
  },
  {
   "cell_type": "markdown",
   "id": "965e9c83",
   "metadata": {},
   "source": [
    "- 8.32%的shard的共识是在26个节点内达成的，他们花费的时间是：26*2.44+84.86\n",
    "- 42.41%的shard的共识是在39个节点内达成的，他们花费的时间是：39*2.44+84.86\n",
    "- 40.27%的shard的共识是在50个节点内达成的，他们花费的时间是：50*2.44+84.86\n",
    "- 8.63%的shard的共识是在63个节点内达成的，他们花费的时间是：63*2.44+84.86\n",
    "- 0.37%的shard的共识是在63个节点内达成的，他们花费的时间是：293*2.44+84.86\n",
    "\n",
    "- 总平均共识达成时间:177.01s\n",
    "\n",
    "- 吞吐量= (5000/26)*4096 /177.01 /1.744 = 2551.59tx/sec"
   ]
  },
  {
   "cell_type": "code",
   "execution_count": 21,
   "id": "54001391",
   "metadata": {},
   "outputs": [
    {
     "data": {
      "text/plain": [
       "177.0056954"
      ]
     },
     "execution_count": 21,
     "metadata": {},
     "output_type": "execute_result"
    }
   ],
   "source": [
    "0.0832*(26*2.44+84.86)+0.4241*(39*2.44+84.86)+0.4027*(50*2.44+84.86)+0.00863*(63*2.44+84.86)+0.0037*(293*2.44+84.86)"
   ]
  },
  {
   "cell_type": "code",
   "execution_count": 13,
   "id": "876c9804",
   "metadata": {},
   "outputs": [
    {
     "data": {
      "text/plain": [
       "133.56"
      ]
     },
     "execution_count": 13,
     "metadata": {},
     "output_type": "execute_result"
    }
   ],
   "source": [
    "63*2.12"
   ]
  },
  {
   "cell_type": "code",
   "execution_count": 14,
   "id": "23853490",
   "metadata": {},
   "outputs": [
    {
     "data": {
      "text/plain": [
       "3381.689377881173"
      ]
     },
     "execution_count": 14,
     "metadata": {},
     "output_type": "execute_result"
    }
   ],
   "source": [
    "(5000/26)*4096 /133.56 /1.744"
   ]
  },
  {
   "cell_type": "markdown",
   "id": "e6905c03",
   "metadata": {},
   "source": [
    "### 3.3 当 $P_a=30\\%$"
   ]
  },
  {
   "cell_type": "markdown",
   "id": "b8fc33a2",
   "metadata": {},
   "source": [
    "n=30:\\\n",
    "26: 0.66%\\\n",
    "39: 6.53%\\\n",
    "50: 20.38%\\\n",
    "63: 33.35%\\\n",
    "293: 39.08%\\\n",
    "n=30: 148.4329000000002\\\n",
    "overlap time: 5.7089576923077\n"
   ]
  },
  {
   "cell_type": "markdown",
   "id": "1e03f357",
   "metadata": {},
   "source": [
    "- 0.66%的shard的共识是在26个节点内达成的，他们花费的时间是：26*2.44+84.86\n",
    "- 6.53%的shard的共识是在39个节点内达成的，他们花费的时间是：39*2.44+84.86\n",
    "- 20.38%的shard的共识是在50个节点内达成的，他们花费的时间是：50*2.44+84.86\n",
    "- 33.35%的shard的共识是在63个节点内达成的，他们花费的时间是：63*2.44+84.86\n",
    "- 39.08%的shard的共识是在293个节点内达成的，他们花费的时间是：293*2.44+84.86\n",
    "\n",
    "- 总平均共识达成时间:447.013s\n",
    "\n",
    "- 吞吐量= (5000/26)*4096 /655.610 /5.708 = 308.71 tx/sec"
   ]
  },
  {
   "cell_type": "code",
   "execution_count": 23,
   "id": "a831b6ff",
   "metadata": {},
   "outputs": [
    {
     "data": {
      "text/plain": [
       "447.012608"
      ]
     },
     "execution_count": 23,
     "metadata": {},
     "output_type": "execute_result"
    }
   ],
   "source": [
    "0.0066*(26*2.44+84.86)+0.0653*(39*2.44+84.86)+0.2038*(50*2.44+84.86)+0.3335*(63*2.44+84.86)+0.3908*(293*2.44+84.86)"
   ]
  },
  {
   "cell_type": "code",
   "execution_count": 16,
   "id": "574df832",
   "metadata": {},
   "outputs": [
    {
     "data": {
      "text/plain": [
       "222.16168393474476"
      ]
     },
     "execution_count": 16,
     "metadata": {},
     "output_type": "execute_result"
    }
   ],
   "source": [
    "(5000/26)*4096 /621.16 /5.708"
   ]
  },
  {
   "cell_type": "code",
   "execution_count": 15,
   "id": "8be9d953",
   "metadata": {},
   "outputs": [
    {
     "data": {
      "text/plain": [
       "621.1600000000001"
      ]
     },
     "execution_count": 15,
     "metadata": {},
     "output_type": "execute_result"
    }
   ],
   "source": [
    "293*2.12"
   ]
  },
  {
   "cell_type": "code",
   "execution_count": null,
   "id": "f27c5c56",
   "metadata": {},
   "outputs": [],
   "source": []
  }
 ],
 "metadata": {
  "kernelspec": {
   "display_name": "Python 3 (ipykernel)",
   "language": "python",
   "name": "python3"
  },
  "language_info": {
   "codemirror_mode": {
    "name": "ipython",
    "version": 3
   },
   "file_extension": ".py",
   "mimetype": "text/x-python",
   "name": "python",
   "nbconvert_exporter": "python",
   "pygments_lexer": "ipython3",
   "version": "3.9.12"
  }
 },
 "nbformat": 4,
 "nbformat_minor": 5
}
