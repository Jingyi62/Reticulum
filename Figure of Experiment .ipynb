{
 "cells": [
  {
   "cell_type": "markdown",
   "id": "ecaa652b",
   "metadata": {},
   "source": [
    "# Load Data and draw figure\n",
    "\n",
    "- The data is collected from the experiments"
   ]
  },
  {
   "cell_type": "code",
   "execution_count": null,
   "id": "5e6414bc",
   "metadata": {
    "scrolled": true
   },
   "outputs": [],
   "source": [
    "import os\n",
    "import re\n",
    "\n",
    "data_arrays = {}\n",
    "folder_names = [\n",
    "    \"Reti_code_average_10\",\n",
    "    \"Reti_code_average_20\",\n",
    "    \"Reti_code_average_30\",\n",
    "    \"Reti_code_average_33\",\n",
    "    \"Reti_code_bankrun_10\",\n",
    "    \"Reti_code_bankrun_20\",\n",
    "    \"Reti_code_bankrun_30\",\n",
    "    \"Reti_code_bankrun_33\",\n",
    "    \"Reti_code_suicidal_10\",\n",
    "    \"Reti_code_suicidal_20\",\n",
    "    \"Reti_code_suicidal_30\",\n",
    "    \"Reti_code_suicidal_33\",\n",
    "    \"Reti_code_worst_10\",\n",
    "    \"Reti_code_worst_20\",\n",
    "    \"Reti_code_worst_30\",\n",
    "    \"Reti_code_worst_33\",\n",
    "    \"Rapidchain\"\n",
    "]\n",
    "\n",
    "for folder_name in folder_names:\n",
    "    folder_path = os.path.join(folder_name)\n",
    "    data_array = []\n",
    "    data_folder_path = os.path.join(folder_path, \"data\", \"node1\", \"csblock\")\n",
    "    if os.path.exists(data_folder_path):\n",
    "        for i in range(1, 101):\n",
    "            time_file_path = os.path.join(data_folder_path, f\"{i}_time\")\n",
    "            if os.path.exists(time_file_path):\n",
    "                with open(time_file_path, \"r\") as time_file:\n",
    "                    content = time_file.read()\n",
    "                    match = re.search(r\"Generate Block time:\\s+(\\d+)\", content)\n",
    "                    if match:\n",
    "                        time_value = int(match.group(1))\n",
    "                        data_array.append(time_value)\n",
    "    data_arrays[folder_name] = data_array\n",
    "    data_arrays[folder_name] = [26] * 100\n",
    "for folder_name, data_array in data_arrays.items():\n",
    "    print(f\"{folder_name}:\")\n",
    "    print(data_array)\n"
   ]
  },
  {
   "cell_type": "markdown",
   "id": "cc8602dd",
   "metadata": {},
   "source": [
    " ## 1. VS Rapidchain"
   ]
  },
  {
   "cell_type": "code",
   "execution_count": null,
   "id": "a58b4bb9",
   "metadata": {},
   "outputs": [],
   "source": [
    "import matplotlib.pyplot as plt\n",
    "\n",
    "x_values = list(range(1, 101))\n",
    "folder_names=[\"Rapidchain\",\"Reti_code_average_33\",\"Reti_code_bankrun_33\",\"Reti_code_suicidal_33\",\"Reti_code_worst_33\"]\n",
    "\n",
    "for folder_name in folder_names:\n",
    "    if folder_name in data_arrays:\n",
    "        if folder_name == \"Rapidchain\":\n",
    "            plt.plot(x_values, [4096 / value for value in data_arrays[folder_name]], label=folder_name)\n",
    "        else:\n",
    "            plt.plot(x_values, [4096 * 3 / value for value in data_arrays[folder_name]], label=folder_name)\n",
    "\n",
    "\n",
    "\n",
    "plt.xlabel(\"Epoch\")\n",
    "plt.ylabel(\"Throughput(tx/second)\")\n",
    "plt.title(\"Rapidchain VS Reticulum\")\n",
    "plt.legend()\n",
    "\n",
    "\n",
    "plt.show()"
   ]
  },
  {
   "cell_type": "code",
   "execution_count": null,
   "id": "0d52e099",
   "metadata": {},
   "outputs": [],
   "source": [
    "import matplotlib.pyplot as plt\n",
    "\n",
    "x_values = list(range(1, 101))\n",
    "folder_names=[\"Rapidchain\",\"Reti_code_average_33\",\"Reti_code_bankrun_33\",\"Reti_code_suicidal_33\",\"Reti_code_worst_33\"]\n",
    "\n",
    "for folder_name in folder_names:\n",
    "    if folder_name in data_arrays:\n",
    "        if folder_name == \"Rapidchain\":\n",
    "            plt.plot(x_values, [22.5 for value in data_arrays[folder_name]], label=folder_name)\n",
    "        else:\n",
    "            plt.plot(x_values, [((2048*45)+(((value-16)/9)-1)*2048*30 )/ (3*4096) for value in data_arrays[folder_name]], label=folder_name)\n",
    "\n",
    "\n",
    "\n",
    "plt.xlabel(\"Epoch\")\n",
    "plt.ylabel(\"Storage(KB/tx)\")\n",
    "plt.title(\"Rapidchain VS Reticulum\")\n",
    "plt.legend()\n",
    "\n",
    "\n",
    "plt.show()"
   ]
  },
  {
   "cell_type": "markdown",
   "id": "c126b5e1",
   "metadata": {},
   "source": [
    "## 2. Gearbox"
   ]
  },
  {
   "cell_type": "code",
   "execution_count": null,
   "id": "936ece40",
   "metadata": {},
   "outputs": [],
   "source": [
    "import matplotlib.pyplot as plt\n",
    "\n",
    "x_values = list(range(1, 101))\n",
    "folder_names=[\"Reti_code_average_10\",\"Reti_code_bankrun_10\",\"Reti_code_suicidal_10\",\"Reti_code_worst_10\"]\n",
    "\n",
    "for folder_name in folder_names:\n",
    "    if folder_name in data_arrays:\n",
    "            plt.plot(x_values, [4096 * 3 / value for value in data_arrays[folder_name]], label=folder_name)\n",
    "\n",
    "plt.xlabel(\"Epoch\")\n",
    "plt.ylabel(\"Throughput(tx/second)\")\n",
    "plt.title(\"Reticulum (Pa=10%)\")\n",
    "plt.legend()\n",
    "\n",
    "\n",
    "plt.show()"
   ]
  },
  {
   "cell_type": "code",
   "execution_count": null,
   "id": "17a02915",
   "metadata": {},
   "outputs": [],
   "source": [
    "import matplotlib.pyplot as plt\n",
    "\n",
    "x_values = list(range(1, 101))\n",
    "folder_names=[\"Reti_code_average_10\",\"Reti_code_bankrun_10\",\"Reti_code_suicidal_10\",\"Reti_code_worst_10\"]\n",
    "\n",
    "for folder_name in folder_names:\n",
    "    if folder_name in data_arrays:\n",
    "             plt.plot(x_values, [((2048*45)+(((value-16)/9)-1)*2048*30 )/ (3*4096) for value in data_arrays[folder_name]], label=folder_name)\n",
    "plt.xlabel(\"Epoch\")\n",
    "plt.ylabel(\"Storage(KB/tx)\")\n",
    "plt.title(\"Reticulum (Pa=10%)\")\n",
    "plt.legend()\n",
    "\n",
    "\n",
    "plt.show()"
   ]
  },
  {
   "cell_type": "code",
   "execution_count": null,
   "id": "b2068c54",
   "metadata": {},
   "outputs": [],
   "source": [
    "import matplotlib.pyplot as plt\n",
    "\n",
    "x_values = list(range(1, 101))\n",
    "folder_names=[\"Reti_code_average_20\",\"Reti_code_bankrun_20\",\"Reti_code_suicidal_20\",\"Reti_code_worst_20\"]\n",
    "\n",
    "for folder_name in folder_names:\n",
    "    if folder_name in data_arrays:\n",
    "            plt.plot(x_values, [4096 * 3 / value for value in data_arrays[folder_name]], label=folder_name)\n",
    "\n",
    "plt.xlabel(\"Epoch\")\n",
    "plt.ylabel(\"Throughput(tx/second)\")\n",
    "plt.title(\"Reticulum (Pa=20%)\")\n",
    "plt.legend()\n",
    "\n",
    "\n",
    "plt.show()"
   ]
  },
  {
   "cell_type": "code",
   "execution_count": null,
   "id": "004de2ae",
   "metadata": {},
   "outputs": [],
   "source": [
    "import matplotlib.pyplot as plt\n",
    "\n",
    "x_values = list(range(1, 101))\n",
    "folder_names=[\"Reti_code_average_20\",\"Reti_code_bankrun_20\",\"Reti_code_suicidal_20\",\"Reti_code_worst_20\"]\n",
    "\n",
    "for folder_name in folder_names:\n",
    "    if folder_name in data_arrays:\n",
    "             plt.plot(x_values, [((2048*45)+(((value-16)/9)-1)*2048*30 )/ (3*4096) for value in data_arrays[folder_name]], label=folder_name)\n",
    "plt.xlabel(\"Epoch\")\n",
    "plt.ylabel(\"Storage(KB/tx)\")\n",
    "plt.title(\"Reticulum (Pa=10%)\")\n",
    "plt.legend()\n",
    "\n",
    "\n",
    "plt.show()"
   ]
  },
  {
   "cell_type": "code",
   "execution_count": null,
   "id": "c9ebb216",
   "metadata": {},
   "outputs": [],
   "source": [
    "import matplotlib.pyplot as plt\n",
    "\n",
    "x_values = list(range(1, 101))\n",
    "folder_names=[\"Reti_code_average_30\",\"Reti_code_bankrun_30\",\"Reti_code_suicidal_30\",\"Reti_code_worst_30\"]\n",
    "\n",
    "for folder_name in folder_names:\n",
    "    if folder_name in data_arrays:\n",
    "            plt.plot(x_values, [4096 * 3 / value for value in data_arrays[folder_name]], label=folder_name)\n",
    "\n",
    "plt.xlabel(\"Epoch\")\n",
    "plt.ylabel(\"Throughput(tx/second)\")\n",
    "plt.title(\"Reticulum (Pa=30%)\")\n",
    "plt.legend()\n",
    "\n",
    "\n",
    "plt.show()"
   ]
  },
  {
   "cell_type": "code",
   "execution_count": null,
   "id": "f363dee5",
   "metadata": {},
   "outputs": [],
   "source": []
  }
 ],
 "metadata": {
  "kernelspec": {
   "display_name": "Python 3 (ipykernel)",
   "language": "python",
   "name": "python3"
  },
  "language_info": {
   "codemirror_mode": {
    "name": "ipython",
    "version": 3
   },
   "file_extension": ".py",
   "mimetype": "text/x-python",
   "name": "python",
   "nbconvert_exporter": "python",
   "pygments_lexer": "ipython3",
   "version": "3.9.12"
  }
 },
 "nbformat": 4,
 "nbformat_minor": 5
}
